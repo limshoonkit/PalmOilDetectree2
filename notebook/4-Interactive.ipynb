{
 "cells": [
  {
   "cell_type": "markdown",
   "id": "391ec6fa",
   "metadata": {},
   "source": [
    "## Interaction"
   ]
  },
  {
   "cell_type": "code",
   "execution_count": null,
   "id": "b9b3a93c",
   "metadata": {},
   "outputs": [],
   "source": [
    "%pip install ipyleaflet geopandas rasterio shapely folium ipywidgets"
   ]
  },
  {
   "cell_type": "code",
   "execution_count": null,
   "id": "88d6f544",
   "metadata": {},
   "outputs": [],
   "source": [
    "# Paths \n",
    "site_path = \"sample_data/\"\n",
    "img_path = site_path + \"random_oilpalm.tif\"\n",
    "crowns_path = site_path + \"predicted_crowns_map15.gpkg\""
   ]
  },
  {
   "cell_type": "code",
   "execution_count": null,
   "id": "ef6262cb",
   "metadata": {},
   "outputs": [
    {
     "data": {
      "application/vnd.jupyter.widget-view+json": {
       "model_id": "ef256e2b05234ead8c34f9d46bb5ef57",
       "version_major": 2,
       "version_minor": 0
      },
      "text/plain": [
       "Map(center=[1.9545018283299727, 103.21470077403063], controls=(ZoomControl(options=['position', 'zoom_in_text'…"
      ]
     },
     "execution_count": 20,
     "metadata": {},
     "output_type": "execute_result"
    }
   ],
   "source": [
    "# --- Imports ---\n",
    "import rasterio\n",
    "import geopandas as gpd\n",
    "import numpy as np\n",
    "from shapely.geometry import box, mapping, shape\n",
    "from shapely.ops import transform\n",
    "import pyproj\n",
    "from PIL import Image\n",
    "\n",
    "from ipyleaflet import (\n",
    "    Map, ImageOverlay, GeoJSON, LayersControl, TileLayer, basemaps, basemap_to_tiles\n",
    "\n",
    ")\n",
    "from ipywidgets import HTML\n",
    "\n",
    "# --- Paths ---\n",
    "site_path = \"sample_data/\"\n",
    "img_path = site_path + \"random_oilpalm.tif\"\n",
    "crowns_path = site_path + \"predicted_crowns_map15.gpkg\"\n",
    "overlay_img_path = site_path + \"overlay_rgb.png\"\n",
    "\n",
    "# --- Save RGB overlay as PNG from GeoTIFF ---\n",
    "def save_rgb_overlay_as_png(img_path, output_img=\"overlay.png\"):\n",
    "    with rasterio.open(img_path) as src:\n",
    "        img = src.read()\n",
    "        bounds = src.bounds\n",
    "        crs = src.crs\n",
    "\n",
    "        if img.shape[0] >= 3:\n",
    "            rgb = np.stack([img[0], img[1], img[2]], axis=-1)\n",
    "        else:\n",
    "            raise ValueError(\"Need at least 3 bands for RGB\")\n",
    "\n",
    "        # Normalize for better display\n",
    "        rgb = rgb.astype(np.float32)\n",
    "        rgb_min, rgb_max = np.percentile(rgb[rgb > 0], (2, 98))\n",
    "        rgb = np.clip((rgb - rgb_min) / (rgb_max - rgb_min), 0, 1)\n",
    "        rgb = (rgb * 255).astype(np.uint8)\n",
    "\n",
    "        image = Image.fromarray(rgb)\n",
    "        image.save(output_img)\n",
    "\n",
    "        return output_img, bounds, crs\n",
    "\n",
    "overlay_img_path, utm_bounds, utm_crs = save_rgb_overlay_as_png(img_path)\n",
    "\n",
    "# --- Convert UTM bounds to WGS84 ---\n",
    "def reproject_bounds_to_wgs84(bounds, src_crs):\n",
    "    project = pyproj.Transformer.from_crs(src_crs, \"EPSG:4326\", always_xy=True).transform\n",
    "    return transform(project, box(*bounds)).bounds\n",
    "\n",
    "wgs84_bounds = reproject_bounds_to_wgs84(utm_bounds, utm_crs)\n",
    "lon_min, lat_min, lon_max, lat_max = wgs84_bounds\n",
    "\n",
    "# --- Load crowns and reproject to WGS84 ---\n",
    "crowns = gpd.read_file(crowns_path)\n",
    "if crowns.crs != \"EPSG:4326\":\n",
    "    crowns = crowns.to_crs(\"EPSG:4326\")\n",
    "\n",
    "# Assign feature IDs for deletion\n",
    "crowns[\"id\"] = crowns.index\n",
    "crowns_json = crowns.__geo_interface__\n",
    "for i, feat in enumerate(crowns_json[\"features\"]):\n",
    "    feat[\"id\"] = i\n",
    "\n",
    "# --- Initialize Map ---\n",
    "center_lat = (lat_min + lat_max) / 2\n",
    "center_lon = (lon_min + lon_max) / 2\n",
    "m = Map(center=(center_lat, center_lon), zoom=18, max_zoom=20)\n",
    "m.layout.width = '50%'  # Set width to 50% of the parent container\n",
    "m.layout.height = '300px'  # Set height to 300 pixels\n",
    "m.add_control(LayersControl(position=\"topright\"))\n",
    "\n",
    "# --- Google Satellite Base Layer ---\n",
    "google_sat = TileLayer(\n",
    "    url=\"http://mt1.google.com/vt/lyrs=s&x={x}&y={y}&z={z}\",\n",
    "    attribution=\"Google Satellite\"\n",
    ")\n",
    "m.add_layer(google_sat)\n",
    "\n",
    "# --- Esri Base Layer ---\n",
    "esri_sat = basemap_to_tiles(basemaps.Esri.WorldImagery) # WorldImageryClarity, WorldImagery\n",
    "m.add_layer(esri_sat)\n",
    "\n",
    "# --- Image Overlay Layer ---\n",
    "overlay = ImageOverlay(\n",
    "    url=overlay_img_path,\n",
    "    bounds=[(lat_min, lon_min), (lat_max, lon_max)],\n",
    "    opacity=0.6,\n",
    "    name=\"Oil Palm RGB\"\n",
    ")\n",
    "m.add_layer(overlay)\n",
    "\n",
    "# --- Crown Polygon GeoJSON Layer ---\n",
    "popup = HTML()\n",
    "crown_layer = GeoJSON(data=crowns_json, name=\"Crowns\", hover_style={\"fillColor\": \"red\"})\n",
    "m.popup = popup\n",
    "deleted_ids = set()\n",
    "\n",
    "def on_click_handler(event, feature, **kwargs):\n",
    "    fid = feature.get(\"id\")\n",
    "    if fid is not None and fid not in deleted_ids:\n",
    "        deleted_ids.add(fid)\n",
    "        remaining = [f for f in crown_layer.data[\"features\"] if f[\"id\"] != fid]\n",
    "        crown_layer.data[\"features\"] = remaining\n",
    "        popup.value = f\"Deleted crown ID: {fid}\"\n",
    "    elif fid in deleted_ids:\n",
    "        popup.value = f\"Crown ID {fid} already deleted.\"\n",
    "\n",
    "crown_layer.on_click(on_click_handler)\n",
    "m.add_layer(crown_layer)\n",
    "\n",
    "# --- Show Map ---\n",
    "m"
   ]
  }
 ],
 "metadata": {
  "kernelspec": {
   "display_name": ".venv",
   "language": "python",
   "name": "python3"
  },
  "language_info": {
   "codemirror_mode": {
    "name": "ipython",
    "version": 3
   },
   "file_extension": ".py",
   "mimetype": "text/x-python",
   "name": "python",
   "nbconvert_exporter": "python",
   "pygments_lexer": "ipython3",
   "version": "3.10.12"
  }
 },
 "nbformat": 4,
 "nbformat_minor": 5
}
