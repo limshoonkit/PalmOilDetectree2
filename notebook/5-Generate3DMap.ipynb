{
 "cells": [
  {
   "cell_type": "markdown",
   "id": "bfde5f38",
   "metadata": {},
   "source": [
    "## Generate 3D Mock Map"
   ]
  }
 ],
 "metadata": {
  "language_info": {
   "name": "python"
  }
 },
 "nbformat": 4,
 "nbformat_minor": 5
}
